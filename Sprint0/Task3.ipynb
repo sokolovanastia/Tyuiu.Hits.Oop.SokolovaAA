{
 "cells": [
  {
   "cell_type": "markdown",
   "metadata": {},
   "source": [
    "<h1 style=\"color:DodgerBlue\">Индивидальный проект</h1>"
   ]
  },
  {
   "cell_type": "markdown",
   "metadata": {},
   "source": [
    "<h2 style=\"color:DodgerBlue\">Название проекта:</h2>\n",
    "\n",
    "----\n",
    "\n",
    "### Вариант задания \n"
   ]
  },
  {
   "cell_type": "markdown",
   "metadata": {},
   "source": [
    "18 вариант "
   ]
  },
  {
   "cell_type": "markdown",
   "metadata": {},
   "source": [
    "<h2 style=\"color:DodgerBlue\">Описание проекта:</h2>\n",
    "\n",
    "----\n",
    "\n",
    "[ваш текст]\n"
   ]
  },
  {
   "cell_type": "markdown",
   "metadata": {},
   "source": [
    "Описание задачи:\n",
    "Создать базовый класс Review в C#, который будет представлять отзывы о\n",
    "продуктах или услугах. На основе этого класса разработать 2-3 производных класса,\n",
    "демонстрирующих принципы наследования и полиморфизма. В каждом из классов\n",
    "должны быть реализованы новые атрибуты и методы, а также переопределены\n",
    "некоторые методы базового класса для демонстрации полиморфизма.\n",
    "Требования к базовому классу Review:\n",
    "• Атрибуты: ID отзыва (ReviewId), Текст отзыва (Text), Рейтинг (Rating).\n",
    "• Методы:\n",
    "o DisplayReview(): метод для отображения отзыва.\n",
    "o RateProduct(): метод для присвоения рейтинга продукту.\n",
    "o GetReviewDetails(): метод для получения деталей отзыва.\n",
    "Требования к производным классам:\n",
    "1. ОтзывОбслуживания (ServiceReview): Должен содержать дополнительные\n",
    "атрибуты, такие как Дата посещения (VisitDate).\n",
    "Метод DisplayReview() должен быть переопределен для включения даты\n",
    "посещения в отображение отзыва.\n",
    "2. ОтзывТовара (ProductReview): Должен содержать дополнительные атрибуты,\n",
    "такие как Идентификатор продукта (ProductId). Метод RateProduct() должен\n",
    "быть переопределен для связывания рейтинга с конкретным продуктом.\n",
    "3. ОтзывУслуги (ServiceReview) (если требуется третий класс): Должен\n",
    "содержать дополнительные атрибуты, такие как Время начала услуги\n",
    "(StartTime). Метод GetReviewDetails() должен быть переопределен для\n",
    "отображения времени начала услуги вместе с другими деталями отзыва."
   ]
  },
  {
   "cell_type": "markdown",
   "metadata": {},
   "source": [
    "<h2 style=\"color:DodgerBlue\">Реализация:</h2>\n",
    "\n",
    "----"
   ]
  },
  {
   "cell_type": "code",
   "execution_count": 2,
   "metadata": {
    "dotnet_interactive": {
     "language": "csharp"
    },
    "polyglot_notebook": {
     "kernelName": "csharp"
    }
   },
   "outputs": [],
   "source": [
    "using System;\n",
    "\n",
    "// Базовый класс Review\n",
    "public class Review\n",
    "{\n",
    "    public int ReviewId { get; set; }\n",
    "    public string Text { get; set; }\n",
    "    public int Rating { get; set; }\n",
    "\n",
    "    public Review(int reviewId, string text, int rating)\n",
    "    {\n",
    "        ReviewId = reviewId;\n",
    "        Text = text;\n",
    "        Rating = rating;\n",
    "    }\n",
    "\n",
    "    // Метод для отображения отзыва\n",
    "    public virtual void DisplayReview()\n",
    "    {\n",
    "        Console.WriteLine($\"Отзыв #{ReviewId}:\");\n",
    "        Console.WriteLine($\"Текст: {Text}\");\n",
    "        Console.WriteLine($\"Рейтинг: {Rating}\");\n",
    "    }\n",
    "\n",
    "    // Метод для присвоения рейтинга продукту\n",
    "    public virtual void RateProduct(int rating)\n",
    "    {\n",
    "        Rating = rating;\n",
    "        Console.WriteLine($\"Рейтинг {rating} присвоен.\");\n",
    "    }\n",
    "\n",
    "    // Метод для получения деталей отзыва\n",
    "    public virtual string GetReviewDetails()\n",
    "    {\n",
    "        return $\"ID: {ReviewId}, Текст: {Text}, Рейтинг: {Rating}\";\n",
    "    }\n",
    "}\n",
    "\n",
    "// Производный класс ОтзывОбслуживания\n",
    "public class ServiceReview : Review\n",
    "{\n",
    "    public DateTime VisitDate { get; set; }\n",
    "\n",
    "    public ServiceReview(int reviewId, string text, int rating, DateTime visitDate) : base(reviewId, text, rating)\n",
    "    {\n",
    "        VisitDate = visitDate;\n",
    "    }\n",
    "\n",
    "    // Переопределенный метод DisplayReview() для включения даты посещения\n",
    "    public override void DisplayReview()\n",
    "    {\n",
    "        base.DisplayReview();\n",
    "        Console.WriteLine($\"Дата посещения: {VisitDate}\");\n",
    "    }\n",
    "}\n",
    "\n",
    "// Производный класс ОтзывТовара\n",
    "public class ProductReview : Review\n",
    "{\n",
    "    public int ProductId { get; set; }\n",
    "\n",
    "    public ProductReview(int reviewId, string text, int rating, int productId) : base(reviewId, text, rating)\n",
    "    {\n",
    "        ProductId = productId;\n",
    "    }\n",
    "\n",
    "    // Переопределенный метод RateProduct() для связывания рейтинга с конкретным продуктом\n",
    "    public override void RateProduct(int rating)\n",
    "    {\n",
    "        base.RateProduct(rating);\n",
    "        Console.WriteLine($\"Рейтинг {rating} присвоен продукту #{ProductId}\");\n",
    "    }\n",
    "}\n",
    "\n",
    "// Производный класс ОтзывУслуги\n",
    "public class ServiceReviewExtended : Review\n",
    "{\n",
    "    public DateTime StartTime { get; set; }\n",
    "\n",
    "    public ServiceReviewExtended(int reviewId, string text, int rating, DateTime startTime) : base(reviewId, text, rating)\n",
    "    {\n",
    "        StartTime = startTime;\n",
    "    }\n",
    "\n",
    "    // Переопределенный метод GetReviewDetails() для отображения времени начала услуги\n",
    "    public override string GetReviewDetails()\n",
    "    {\n",
    "        return base.GetReviewDetails() + $\", Время начала: {StartTime}\";\n",
    "    }\n",
    "}\n",
    "\n",
    "\n",
    "ServiceReview serviceReview = new ServiceReview(1, \"Отличное обслуживание!\", 5, DateTime.Now);\n",
    "serviceReview.DisplayReview();\n",
    "\n",
    "ProductReview productReview = new ProductReview(2, \"Отличный продукт!\", 4, 1234);\n",
    "productReview.RateProduct(3);\n",
    "\n",
    "ServiceReviewExtended serviceReviewExtended = new ServiceReviewExtended(3, \"Быстрая услуга\", 5, DateTime.Now);\n",
    "Console.WriteLine(serviceReviewExtended.GetReviewDetails());\n",
    "\n"
   ]
  }
 ],
 "metadata": {
  "kernelspec": {
   "display_name": ".NET (C#)",
   "language": "C#",
   "name": ".net-csharp"
  },
  "polyglot_notebook": {
   "kernelInfo": {
    "defaultKernelName": "csharp",
    "items": [
     {
      "aliases": [],
      "languageName": "csharp",
      "name": "csharp"
     }
    ]
   }
  }
 },
 "nbformat": 4,
 "nbformat_minor": 2
}
