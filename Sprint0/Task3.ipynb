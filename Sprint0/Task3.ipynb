{
 "cells": [
  {
   "cell_type": "markdown",
   "metadata": {},
   "source": [
    "<h1 style=\"color:DodgerBlue\">Индивидальный проект</h1>"
   ]
  },
  {
   "cell_type": "markdown",
   "metadata": {},
   "source": [
    "<h2 style=\"color:DodgerBlue\">Название проекта:</h2>\n",
    "\n",
    "----\n",
    "\n",
    "### Вариант задания \n"
   ]
  },
  {
   "cell_type": "markdown",
   "metadata": {},
   "source": [
    "<h2 style=\"color:DodgerBlue\">Описание проекта:</h2>\n",
    "\n",
    "----\n",
    "\n",
    "[ваш текст]\n"
   ]
  },
  {
   "cell_type": "markdown",
   "metadata": {},
   "source": [
    "<h2 style=\"color:DodgerBlue\">Реализация:</h2>\n",
    "\n",
    "----"
   ]
  },
  {
   "cell_type": "code",
   "execution_count": 2,
   "metadata": {
    "dotnet_interactive": {
     "language": "csharp"
    },
    "polyglot_notebook": {
     "kernelName": "csharp"
    }
   },
   "outputs": [],
   "source": [
    "using System;\n",
    "\n",
    "// Базовый класс Review\n",
    "public class Review\n",
    "{\n",
    "    public int ReviewId { get; set; }\n",
    "    public string Text { get; set; }\n",
    "    public int Rating { get; set; }\n",
    "\n",
    "    public Review(int reviewId, string text, int rating)\n",
    "    {\n",
    "        ReviewId = reviewId;\n",
    "        Text = text;\n",
    "        Rating = rating;\n",
    "    }\n",
    "\n",
    "    // Метод для отображения отзыва\n",
    "    public virtual void DisplayReview()\n",
    "    {\n",
    "        Console.WriteLine($\"Отзыв #{ReviewId}\");\n",
    "        Console.WriteLine($\"Текст: {Text}\");\n",
    "        Console.WriteLine($\"Рейтинг: {Rating}\");\n",
    "    }\n",
    "\n",
    "    // Метод для присвоения рейтинга продукту\n",
    "    public virtual void RateProduct(int productId, int rating)\n",
    "    {\n",
    "        Rating = rating;\n",
    "        Console.WriteLine($\"Рейтинг для продукта #{productId} установлен: {Rating}\");\n",
    "    }\n",
    "\n",
    "    // Метод для получения деталей отзыва\n",
    "    public virtual string GetReviewDetails()\n",
    "    {\n",
    "        return $\"Отзыв #{ReviewId}: Текст: {Text}, Рейтинг: {Rating}\";\n",
    "    }\n",
    "}\n",
    "\n",
    "// Производный класс ОтзывОбслуживания\n",
    "public class ServiceReview : Review\n",
    "{\n",
    "    public DateTime VisitDate { get; set; }\n",
    "\n",
    "    public ServiceReview(int reviewId, string text, int rating, DateTime visitDate) : base(reviewId, text, rating)\n",
    "    {\n",
    "        VisitDate = visitDate;\n",
    "    }\n",
    "\n",
    "    // Переопределенный метод для отображения отзыва\n",
    "    public override void DisplayReview()\n",
    "    {\n",
    "        base.DisplayReview();\n",
    "        Console.WriteLine($\"Дата посещения: {VisitDate:d}\");\n",
    "    }\n",
    "}\n",
    "\n",
    "// Производный класс ОтзывТовара\n",
    "public class ProductReview : Review\n",
    "{\n",
    "    public int ProductId { get; set; }\n",
    "\n",
    "    public ProductReview(int reviewId, string text, int rating, int productId) : base(reviewId, text, rating)\n",
    "    {\n",
    "        ProductId = productId;\n",
    "    }\n",
    "\n",
    "    // Переопределенный метод для присвоения рейтинга продукту\n",
    "    public override void RateProduct(int productId, int rating)\n",
    "    {\n",
    "        ProductId = productId;\n",
    "        base.RateProduct(productId, rating);\n",
    "    }\n",
    "}\n",
    "\n",
    "// Производный класс ОтзывУслуги (необязательный)\n",
    "public class ServiceReview2 : Review\n",
    "{\n",
    "    public DateTime StartTime { get; set; }\n",
    "\n",
    "    public ServiceReview2(int reviewId, string text, int rating, DateTime startTime) : base(reviewId, text, rating)\n",
    "    {\n",
    "        StartTime = startTime;\n",
    "    }\n",
    "\n",
    "    // Переопределенный метод для получения деталей отзыва\n",
    "    public override string GetReviewDetails()\n",
    "    {\n",
    "        return base.GetReviewDetails() + $\", Время начала услуги: {StartTime:t}\";\n",
    "    }\n",
    "}\n",
    "\n",
    "class Program\n",
    "{\n",
    "    static void Main(string[] args)\n",
    "    {\n",
    "        // Создание объектов разных типов отзывов\n",
    "        Review review1 = new Review(1, \"Отличный продукт!\", 5);\n",
    "        ServiceReview review2 = new ServiceReview(2, \"Прекрасное обслуживание!\", 4, DateTime.Now);\n",
    "        ProductReview review3 = new ProductReview(3, \"Хороший товар, но дороговат.\", 3, 123);\n",
    "        ServiceReview2 review4 = new ServiceReview2(4, \"Услуга была выполнена быстро и качественно.\", 5, DateTime.Now);\n",
    "\n",
    "        // Вывод деталей отзывов\n",
    "        Console.WriteLine(\"----------------------\");\n",
    "        review1.DisplayReview();\n",
    "        Console.WriteLine(\"----------------------\");\n",
    "        review2.DisplayReview();\n",
    "        Console.WriteLine(\"----------------------\");\n",
    "        review3.DisplayReview();\n",
    "        Console.WriteLine(\"----------------------\");\n",
    "        review4.DisplayReview();\n",
    "        Console.WriteLine(\"----------------------\");\n",
    "        Console.WriteLine(review4.GetReviewDetails());\n",
    "        Console.WriteLine(\"----------------------\");\n",
    "\n",
    "        // Применение метода RateProduct для разных типов отзывов\n",
    "        review1.RateProduct(1, 4);\n",
    "        review3.RateProduct(456, 5);\n",
    "\n",
    "        \n",
    "    }\n",
    "}\n"
   ]
  }
 ],
 "metadata": {
  "kernelspec": {
   "display_name": ".NET (C#)",
   "language": "C#",
   "name": ".net-csharp"
  },
  "polyglot_notebook": {
   "kernelInfo": {
    "defaultKernelName": "csharp",
    "items": [
     {
      "aliases": [],
      "languageName": "csharp",
      "name": "csharp"
     }
    ]
   }
  }
 },
 "nbformat": 4,
 "nbformat_minor": 2
}
